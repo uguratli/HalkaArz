{
 "cells": [
  {
   "cell_type": "code",
   "execution_count": 5,
   "metadata": {},
   "outputs": [],
   "source": [
    "import yfinance as yf\n",
    "yf.pdr_override()\n",
    "from pandas_datareader import data as pr\n",
    "from bs4 import BeautifulSoup as bs\n",
    "from bs4.element import Comment\n",
    "import pandas as pd\n",
    "import numpy as np\n",
    "import requests\n",
    "import gspread\n",
    "from oauth2client.service_account import ServiceAccountCredentials\n",
    "import datetime as dt\n",
    "import string\n",
    "import time"
   ]
  },
  {
   "cell_type": "code",
   "execution_count": 6,
   "metadata": {},
   "outputs": [],
   "source": [
    "def value_fix(value, replace = False):\n",
    "    letters_pattern = str.maketrans('', '', string.ascii_letters)\n",
    "    value = value.translate(letters_pattern).strip()\n",
    "    if replace:\n",
    "        return float(value.replace(',', '.'))\n",
    "    else:\n",
    "        return value.replace(',', '')\n"
   ]
  },
  {
   "cell_type": "code",
   "execution_count": 7,
   "metadata": {},
   "outputs": [],
   "source": [
    "def months(month):\n",
    "        Months = {\n",
    "                'Ocak': '1',\t\n",
    "                'Şubat': '2',\n",
    "                'Mart': '3',\t\n",
    "                'Nisan': '4',\t\n",
    "                'Mayıs': '5',\t\n",
    "                'Haziran': '6',\t\n",
    "                'Temmuz': '7',\t\n",
    "                'Ağustos': '8',\t\n",
    "                'Eylül': '9',\t\n",
    "                'Ekim': '10',\t\n",
    "                'Kasım': '11',\t\n",
    "                'Aralık': '12'\n",
    "                }       \n",
    "        if month in Months:\n",
    "                return Months[month]\n",
    "        else:\n",
    "                return month\n",
    "def fix_time_it(time):\n",
    "        str_time = ''\n",
    "        for i in time.split(' '):\n",
    "                str_time += months(i) + '-'\n",
    "        #return str_time[:-1]\n",
    "        return dt.datetime.strptime(str(str_time[:-1]), '%d-%m-%Y').date().strftime('%Y-%m-%d')\n"
   ]
  },
  {
   "cell_type": "code",
   "execution_count": 8,
   "metadata": {},
   "outputs": [],
   "source": [
    "def time_it(time):\n",
    "    \"\"\"\n",
    "    Returns time data type of given string in form Y-m-d.\n",
    "    Example: 2001-01-01.\"\"\"\n",
    "    return dt.datetime.strptime(str(time), '%Y-%m-%d')"
   ]
  },
  {
   "cell_type": "code",
   "execution_count": 21,
   "metadata": {},
   "outputs": [],
   "source": [
    "def g_stocks(stock, time_delta = 999):\n",
    "    time.sleep(10)\n",
    "    scope =  ['https://www.googleapis.com/auth/spreadsheets', \"https://www.googleapis.com/auth/drive.file\", \"https://www.googleapis.com/auth/drive\"]\n",
    "    creds = ServiceAccountCredentials.from_json_keyfile_name('cred.json', scope)\n",
    "    client = gspread.authorize(creds)\n",
    "    sheet = client.open('stocks').sheet1\n",
    "    sheet.update_cell(1, 7, stock)\n",
    "    sheet.update_cell(1, 8, time_delta)\n",
    "    if not sheet.get_all_records() == []:\n",
    "        df = pd.DataFrame(sheet.get_all_records())[['Date', 'Open', 'High', 'Low', 'Close', 'Volume']]\n",
    "        df.drop(df[df['Close'].str.len() == 0].index, inplace = True)\n",
    "        type_map = {'Open': float,\n",
    "                    'Close': float,\n",
    "                    'High': float,\n",
    "                    'Low': float,\n",
    "                    'Volume':int}   \n",
    "        df = df.astype(type_map)\n",
    "        df['Date'] = pd.to_datetime(df['Date']).dt.strftime('%Y-%m-%d')\n",
    "        return df.set_index('Date')\n",
    "    else:\n",
    "        return pd.DataFrame(columns=['Date', 'Open', 'High', 'Low', 'Close', 'Volume']).set_index('Date')"
   ]
  },
  {
   "cell_type": "code",
   "execution_count": 10,
   "metadata": {},
   "outputs": [],
   "source": [
    "def page_urls(url):\n",
    "    page_counter = 1\n",
    "    pages = [url]\n",
    "    soup = make_soup(url)\n",
    "    while soup.find(class_ = 'rightNav'):\n",
    "        page_counter += 1\n",
    "        pages.append(url+f'page/{page_counter}/')\n",
    "        soup = make_soup(pages[-1])\n",
    "    return pages    \n"
   ]
  },
  {
   "cell_type": "code",
   "execution_count": 11,
   "metadata": {},
   "outputs": [],
   "source": [
    "\n",
    "def make_request(url):\n",
    "    \"\"\"Request maker.\n",
    "    Makes request for given url.\"\"\"\n",
    "    headers = {'User-Agent': \"Mozilla/5.0 (Windows NT 10.0; Win64; x64) AppleWebKit/537.36 (KHTML, like Gecko) Chrome/42.0.2311.135 Safari/537.36 Edge/12.246\"}\n",
    "    return requests.get(url=url, headers=headers)"
   ]
  },
  {
   "cell_type": "code",
   "execution_count": 12,
   "metadata": {},
   "outputs": [],
   "source": [
    "def make_soup(url):\n",
    "    \"\"\"Soup maker.\n",
    "    Returns soup for given url.\"\"\"\n",
    "    r = make_request(url)\n",
    "    if r.status_code == 200:\n",
    "        return bs(r.content, 'html5lib')\n",
    "    else:\n",
    "        return False"
   ]
  },
  {
   "cell_type": "code",
   "execution_count": 13,
   "metadata": {},
   "outputs": [],
   "source": [
    "def get_halka_arz_info(url, soup = False):\n",
    "    cols = []\n",
    "    vals = []\n",
    "    if not soup:\n",
    "        soup = make_soup(url)\n",
    "    info_table = soup.find('table', {'class': 'sp-table'})\n",
    "    rows = info_table.find_all('tr')\n",
    "    for row in rows:\n",
    "        row_data = row.find_all('td')\n",
    "        cols.append(row_data[0].text)\n",
    "        vals.append(row_data[1].text)\n",
    "    return pd.DataFrame(data = [vals], columns = cols)"
   ]
  },
  {
   "cell_type": "code",
   "execution_count": 14,
   "metadata": {},
   "outputs": [],
   "source": [
    "def get_halka_arz_result(url, soup = False):\n",
    "    if not soup:\n",
    "        soup = make_soup(url)\n",
    "    vals = []\n",
    "    cols = []\n",
    "    #cols = ['Yurtiçi_Bireysel_Kisi', 'Yurtiçi_Bireysel_Lot',\n",
    "    #    'Yurtiçi_Kurumsal_Kisi', 'Yurtiçi_Kurumsal_Lot',\n",
    "    #    'Yurtdışı_Kurumsal_Kisi', 'Yurtdışı_Kurumsal_Lot',\n",
    "    #    'Şirket_Çalışanları_Kisi', 'Şirket_Çalışanları_Lot']\n",
    "    table = soup.find('table', {'class': 'as-table'})\n",
    "    if not table == None:\n",
    "        rows = table.find_all('tr')\n",
    "        for i in range(2, len(rows)-2):\n",
    "            row_data = rows[i].find_all('td')\n",
    "            for ex in ['_Kisi', '_Lot']:\n",
    "                cols.append(row_data[0].text.strip()+ex)\n",
    "            for j in range(1,3):\n",
    "                vals.append(row_data[j].text)\n",
    "        return pd.DataFrame(data = [vals], columns = cols)\n",
    "    else:\n",
    "        return pd.DataFrame()"
   ]
  },
  {
   "cell_type": "code",
   "execution_count": 15,
   "metadata": {},
   "outputs": [],
   "source": [
    "def get_hist_data(stock, time_delta = 999):\n",
    "    df = pr.DataReader(stock + '.IS')\n",
    "    df.drop(columns=['Adj Close'], inplace=True)\n",
    "    if df.shape[0] <= 1:\n",
    "        df = g_stocks(stock, time_delta=time_delta)\n",
    "    return df"
   ]
  },
  {
   "cell_type": "code",
   "execution_count": 16,
   "metadata": {},
   "outputs": [],
   "source": [
    "url = 'https://halkarz.com/k/halka-arz/'"
   ]
  },
  {
   "cell_type": "code",
   "execution_count": 17,
   "metadata": {},
   "outputs": [],
   "source": [
    "start_year = dt.datetime.today().year\n",
    "year_period = 3\n",
    "halka_arz_pages = {}\n",
    "stocks = {}\n",
    "for i in range(year_period):\n",
    "    year_page = url+f'{start_year - i}/'\n",
    "    #halka_arz_pages.update({page : {'Pages':page_urls(page)}})\n",
    "    pages = page_urls(year_page)\n",
    "    for page in pages:\n",
    "        page_soup = make_soup(page)\n",
    "        stocks_ = page_soup.find_all(class_ = \"halka-arz-list archives\")\n",
    "        for stock in stocks_:\n",
    "            stock_content = stock.find(class_ = 'il-content')\n",
    "            stock_symbol = stock_content.find(class_ = 'il-bist-kod').get_text(strip=True)\n",
    "            stock_name = stock_content.find(class_ = 'il-halka-arz-sirket').find('a')['title']\n",
    "            stock_page = stock_content.find(class_ = 'il-halka-arz-sirket').find('a')['href']\n",
    "            stocks.update({stock_symbol :\n",
    "                            {'url':stock_page,\n",
    "                             'stock_name':stock_name,\n",
    "                             'release_year':start_year-i}})"
   ]
  },
  {
   "cell_type": "code",
   "execution_count": 18,
   "metadata": {},
   "outputs": [],
   "source": [
    "for stock in stocks:\n",
    "    stocks[stock].update({'Halka_arz_info': get_halka_arz_info(stocks[stock]['url'])})\n",
    "    stocks[stock].update({'Halka_arz_result': get_halka_arz_result(stocks[stock]['url'])})"
   ]
  },
  {
   "cell_type": "code",
   "execution_count": 22,
   "metadata": {},
   "outputs": [
    {
     "name": "stdout",
     "output_type": "stream",
     "text": [
      "AVPGY\n",
      "[*********************100%***********************]  1 of 1 completed"
     ]
    },
    {
     "name": "stderr",
     "output_type": "stream",
     "text": [
      "ERROR \n",
      "1 Failed download:\n",
      "ERROR ['AVPGY.IS']: Exception('AVPGY.IS: No timezone found, symbol may be delisted')\n"
     ]
    },
    {
     "name": "stdout",
     "output_type": "stream",
     "text": [
      "\n",
      "MEGMT\n",
      "[*********************100%***********************]  1 of 1 completed\n",
      "KBORU\n",
      "[*********************100%***********************]  1 of 1 completed\n",
      "SURGY\n",
      "[*********************100%***********************]  1 of 1 completed\n",
      "CATES\n",
      "[*********************100%***********************]  1 of 1 completed\n",
      "SKYMD\n",
      "[*********************100%***********************]  1 of 1 completed\n",
      "BEGYO\n",
      "[*********************100%***********************]  1 of 1 completed\n",
      "AGROT\n",
      "[*********************100%***********************]  1 of 1 completed\n",
      "EKOS\n",
      "[*********************100%***********************]  1 of 1 completed\n",
      "BINHO\n",
      "[*********************100%***********************]  1 of 1 completed\n",
      "MARBL\n",
      "[*********************100%***********************]  1 of 1 completed"
     ]
    },
    {
     "name": "stderr",
     "output_type": "stream",
     "text": [
      "ERROR \n",
      "1 Failed download:\n",
      "ERROR ['MARBL.IS']: Exception('MARBL.IS: 1d data not available for startTime=-2208994789 and endTime=1702980383. Only 100 years worth of day granularity data are allowed to be fetched per request.')\n"
     ]
    },
    {
     "name": "stdout",
     "output_type": "stream",
     "text": [
      "\n",
      "TABGD\n",
      "[*********************100%***********************]  1 of 1 completed\n",
      "VRGYO\n",
      "[*********************100%***********************]  1 of 1 completed\n",
      "MHRGY\n",
      "[*********************100%***********************]  1 of 1 completed\n",
      "BORLS\n",
      "[*********************100%***********************]  1 of 1 completed\n",
      "DOFER\n",
      "[*********************100%***********************]  1 of 1 completed\n",
      "MEKAG\n",
      "[*********************100%***********************]  1 of 1 completed\n",
      "DMRGD\n",
      "[*********************100%***********************]  1 of 1 completed\n",
      "ADGYO\n",
      "[*********************100%***********************]  1 of 1 completed\n",
      "HATSN\n",
      "[*********************100%***********************]  1 of 1 completed\n",
      "REEDR\n",
      "[*********************100%***********************]  1 of 1 completed\n",
      "GIPTA\n",
      "[*********************100%***********************]  1 of 1 completed\n",
      "TARKM\n",
      "[*********************100%***********************]  1 of 1 completed\n",
      "EBEBK\n",
      "[*********************100%***********************]  1 of 1 completed\n",
      "KZGYO\n",
      "[*********************100%***********************]  1 of 1 completed\n",
      "BYDNR\n",
      "[*********************100%***********************]  1 of 1 completed\n",
      "ENERY\n",
      "[*********************100%***********************]  1 of 1 completed\n",
      "TATEN\n",
      "[*********************100%***********************]  1 of 1 completed"
     ]
    },
    {
     "name": "stderr",
     "output_type": "stream",
     "text": [
      "ERROR \n",
      "1 Failed download:\n",
      "ERROR ['TATEN.IS']: Exception('TATEN.IS: 1d data not available for startTime=-2208994789 and endTime=1702980400. Only 100 years worth of day granularity data are allowed to be fetched per request.')\n"
     ]
    },
    {
     "name": "stdout",
     "output_type": "stream",
     "text": [
      "\n",
      "OFSYM\n",
      "[*********************100%***********************]  1 of 1 completed\n",
      "IZENR\n",
      "[*********************100%***********************]  1 of 1 completed\n",
      "ASGYO\n",
      "[*********************100%***********************]  1 of 1 completed\n",
      "KLSER\n",
      "[*********************100%***********************]  1 of 1 completed\n",
      "FZLGY\n",
      "[*********************100%***********************]  1 of 1 completed\n",
      "ATAKP\n",
      "[*********************100%***********************]  1 of 1 completed\n",
      "FORTE\n",
      "[*********************100%***********************]  1 of 1 completed\n",
      "A1CAP\n",
      "[*********************100%***********************]  1 of 1 completed\n",
      "PASEU\n",
      "[*********************100%***********************]  1 of 1 completed\n",
      "KTLEV\n",
      "[*********************100%***********************]  1 of 1 completed\n",
      "BIENY\n",
      "[*********************100%***********************]  1 of 1 completed\n",
      "KAYSE\n",
      "[*********************100%***********************]  1 of 1 completed\n",
      "BIGCH\n",
      "[*********************100%***********************]  1 of 1 completed\n",
      "CWENE\n",
      "[*********************100%***********************]  1 of 1 completed\n",
      "GRTRK\n",
      "[*********************100%***********************]  1 of 1 completed\n",
      "EUPWR\n",
      "[*********************100%***********************]  1 of 1 completed\n",
      "CVKMD\n",
      "[*********************100%***********************]  1 of 1 completed"
     ]
    },
    {
     "name": "stderr",
     "output_type": "stream",
     "text": [
      "ERROR \n",
      "1 Failed download:\n",
      "ERROR ['CVKMD.IS']: Exception('CVKMD.IS: 1d data not available for startTime=-2208994789 and endTime=1702980418. Only 100 years worth of day granularity data are allowed to be fetched per request.')\n"
     ]
    },
    {
     "name": "stdout",
     "output_type": "stream",
     "text": [
      "\n",
      "KOPOL\n",
      "[*********************100%***********************]  1 of 1 completed"
     ]
    },
    {
     "name": "stderr",
     "output_type": "stream",
     "text": [
      "ERROR \n",
      "1 Failed download:\n",
      "ERROR ['KOPOL.IS']: Exception('KOPOL.IS: 1d data not available for startTime=-2208994789 and endTime=1702980431. Only 100 years worth of day granularity data are allowed to be fetched per request.')\n"
     ]
    },
    {
     "name": "stdout",
     "output_type": "stream",
     "text": [
      "\n",
      "EKSUN\n",
      "[*********************100%***********************]  1 of 1 completed"
     ]
    },
    {
     "name": "stderr",
     "output_type": "stream",
     "text": [
      "ERROR \n",
      "1 Failed download:\n",
      "ERROR ['EKSUN.IS']: Exception('EKSUN.IS: 1d data not available for startTime=-2208994789 and endTime=1702980445. Only 100 years worth of day granularity data are allowed to be fetched per request.')\n"
     ]
    },
    {
     "name": "stdout",
     "output_type": "stream",
     "text": [
      "\n",
      "AKFYE\n",
      "[*********************100%***********************]  1 of 1 completed\n",
      "GOKNR\n",
      "[*********************100%***********************]  1 of 1 completed\n",
      "BVSAN\n",
      "[*********************100%***********************]  1 of 1 completed\n",
      "MACKO\n",
      "[*********************100%***********************]  1 of 1 completed"
     ]
    },
    {
     "name": "stderr",
     "output_type": "stream",
     "text": [
      "ERROR \n",
      "1 Failed download:\n",
      "ERROR ['MACKO.IS']: Exception('MACKO.IS: 1d data not available for startTime=-2208994789 and endTime=1702980459. Only 100 years worth of day granularity data are allowed to be fetched per request.')\n"
     ]
    },
    {
     "name": "stdout",
     "output_type": "stream",
     "text": [
      "\n",
      "ASTOR\n",
      "[*********************100%***********************]  1 of 1 completed"
     ]
    },
    {
     "name": "stderr",
     "output_type": "stream",
     "text": [
      "ERROR \n",
      "1 Failed download:\n",
      "ERROR ['ASTOR.IS']: Exception('ASTOR.IS: 1d data not available for startTime=-2208994789 and endTime=1702980472. Only 100 years worth of day granularity data are allowed to be fetched per request.')\n"
     ]
    },
    {
     "name": "stdout",
     "output_type": "stream",
     "text": [
      "\n",
      "TNZTP\n",
      "[*********************100%***********************]  1 of 1 completed\n",
      "SOKE\n",
      "[*********************100%***********************]  1 of 1 completed"
     ]
    },
    {
     "name": "stderr",
     "output_type": "stream",
     "text": [
      "ERROR \n",
      "1 Failed download:\n",
      "ERROR ['SOKE.IS']: Exception('SOKE.IS: 1d data not available for startTime=-2208994789 and endTime=1702980486. Only 100 years worth of day granularity data are allowed to be fetched per request.')\n"
     ]
    },
    {
     "name": "stdout",
     "output_type": "stream",
     "text": [
      "\n",
      "SDTTR\n",
      "[*********************100%***********************]  1 of 1 completed"
     ]
    },
    {
     "name": "stderr",
     "output_type": "stream",
     "text": [
      "ERROR \n",
      "1 Failed download:\n",
      "ERROR ['SDTTR.IS']: Exception('SDTTR.IS: 1d data not available for startTime=-2208994789 and endTime=1702980500. Only 100 years worth of day granularity data are allowed to be fetched per request.')\n"
     ]
    },
    {
     "name": "stdout",
     "output_type": "stream",
     "text": [
      "\n",
      "ONCSM\n",
      "[*********************100%***********************]  1 of 1 completed"
     ]
    },
    {
     "name": "stderr",
     "output_type": "stream",
     "text": [
      "ERROR \n",
      "1 Failed download:\n",
      "ERROR ['ONCSM.IS']: Exception('ONCSM.IS: 1d data not available for startTime=-2208994789 and endTime=1702980513. Only 100 years worth of day granularity data are allowed to be fetched per request.')\n"
     ]
    },
    {
     "name": "stdout",
     "output_type": "stream",
     "text": [
      "\n",
      "EYGYO\n",
      "[*********************100%***********************]  1 of 1 completed\n",
      "TERA\n",
      "[*********************100%***********************]  1 of 1 completed\n",
      "AHGAZ\n",
      "[*********************100%***********************]  1 of 1 completed\n",
      "BRKVY\n",
      "[*********************100%***********************]  1 of 1 completed"
     ]
    },
    {
     "name": "stderr",
     "output_type": "stream",
     "text": [
      "ERROR \n",
      "1 Failed download:\n",
      "ERROR ['BRKVY.IS']: Exception('BRKVY.IS: 1d data not available for startTime=-2208994789 and endTime=1702980527. Only 100 years worth of day granularity data are allowed to be fetched per request.')\n"
     ]
    },
    {
     "name": "stdout",
     "output_type": "stream",
     "text": [
      "\n",
      "PLTUR\n",
      "[*********************100%***********************]  1 of 1 completed"
     ]
    },
    {
     "name": "stderr",
     "output_type": "stream",
     "text": [
      "ERROR \n",
      "1 Failed download:\n",
      "ERROR ['PLTUR.IS']: Exception('PLTUR.IS: 1d data not available for startTime=-2208994789 and endTime=1702980541. Only 100 years worth of day granularity data are allowed to be fetched per request.')\n"
     ]
    },
    {
     "name": "stdout",
     "output_type": "stream",
     "text": [
      "\n",
      "OZSUB\n",
      "[*********************100%***********************]  1 of 1 completed"
     ]
    },
    {
     "name": "stderr",
     "output_type": "stream",
     "text": [
      "ERROR \n",
      "1 Failed download:\n",
      "ERROR ['OZSUB.IS']: Exception('OZSUB.IS: 1d data not available for startTime=-2208994789 and endTime=1702980554. Only 100 years worth of day granularity data are allowed to be fetched per request.')\n"
     ]
    },
    {
     "name": "stdout",
     "output_type": "stream",
     "text": [
      "\n",
      "SNICA\n",
      "[*********************100%***********************]  1 of 1 completed"
     ]
    },
    {
     "name": "stderr",
     "output_type": "stream",
     "text": [
      "ERROR \n",
      "1 Failed download:\n",
      "ERROR ['SNICA.IS']: Exception('SNICA.IS: 1d data not available for startTime=-2208994789 and endTime=1702980568. Only 100 years worth of day granularity data are allowed to be fetched per request.')\n"
     ]
    },
    {
     "name": "stdout",
     "output_type": "stream",
     "text": [
      "\n",
      "ALFAS\n",
      "[*********************100%***********************]  1 of 1 completed\n",
      "AZTEK\n",
      "[*********************100%***********************]  1 of 1 completed"
     ]
    },
    {
     "name": "stderr",
     "output_type": "stream",
     "text": [
      "ERROR \n",
      "1 Failed download:\n",
      "ERROR ['AZTEK.IS']: Exception('AZTEK.IS: 1d data not available for startTime=-2208994789 and endTime=1702980581. Only 100 years worth of day granularity data are allowed to be fetched per request.')\n"
     ]
    },
    {
     "name": "stdout",
     "output_type": "stream",
     "text": [
      "\n",
      "HKTM\n",
      "[*********************100%***********************]  1 of 1 completed"
     ]
    },
    {
     "name": "stderr",
     "output_type": "stream",
     "text": [
      "ERROR \n",
      "1 Failed download:\n",
      "ERROR ['HKTM.IS']: Exception('HKTM.IS: 1d data not available for startTime=-2208994789 and endTime=1702980595. Only 100 years worth of day granularity data are allowed to be fetched per request.')\n"
     ]
    },
    {
     "name": "stdout",
     "output_type": "stream",
     "text": [
      "\n",
      "BARMA\n",
      "[*********************100%***********************]  1 of 1 completed"
     ]
    },
    {
     "name": "stderr",
     "output_type": "stream",
     "text": [
      "ERROR \n",
      "1 Failed download:\n",
      "ERROR ['BARMA.IS']: Exception('BARMA.IS: 1d data not available for startTime=-2208994789 and endTime=1702980608. Only 100 years worth of day granularity data are allowed to be fetched per request.')\n"
     ]
    },
    {
     "name": "stdout",
     "output_type": "stream",
     "text": [
      "\n",
      "OBASE\n",
      "[*********************100%***********************]  1 of 1 completed"
     ]
    },
    {
     "name": "stderr",
     "output_type": "stream",
     "text": [
      "ERROR \n",
      "1 Failed download:\n",
      "ERROR ['OBASE.IS']: Exception('OBASE.IS: 1d data not available for startTime=-2208994789 and endTime=1702980622. Only 100 years worth of day granularity data are allowed to be fetched per request.')\n"
     ]
    },
    {
     "name": "stdout",
     "output_type": "stream",
     "text": [
      "\n",
      "KRPLS\n",
      "[*********************100%***********************]  1 of 1 completed"
     ]
    },
    {
     "name": "stderr",
     "output_type": "stream",
     "text": [
      "ERROR \n",
      "1 Failed download:\n",
      "ERROR ['KRPLS.IS']: Exception('KRPLS.IS: 1d data not available for startTime=-2208994789 and endTime=1702980636. Only 100 years worth of day granularity data are allowed to be fetched per request.')\n"
     ]
    },
    {
     "name": "stdout",
     "output_type": "stream",
     "text": [
      "\n",
      "KLRHO\n",
      "[*********************100%***********************]  1 of 1 completed\n",
      "RUBNS\n",
      "[*********************100%***********************]  1 of 1 completed\n",
      "KCAER\n",
      "[*********************100%***********************]  1 of 1 completed"
     ]
    },
    {
     "name": "stderr",
     "output_type": "stream",
     "text": [
      "ERROR \n",
      "1 Failed download:\n",
      "ERROR ['KCAER.IS']: Exception('KCAER.IS: 1d data not available for startTime=-2208994789 and endTime=1702980650. Only 100 years worth of day granularity data are allowed to be fetched per request.')\n"
     ]
    },
    {
     "name": "stdout",
     "output_type": "stream",
     "text": [
      "\n",
      "PRDGS\n",
      "[*********************100%***********************]  1 of 1 completed"
     ]
    },
    {
     "name": "stderr",
     "output_type": "stream",
     "text": [
      "ERROR \n",
      "1 Failed download:\n",
      "ERROR ['PRDGS.IS']: Exception('PRDGS.IS: 1d data not available for startTime=-2208994789 and endTime=1702980664. Only 100 years worth of day granularity data are allowed to be fetched per request.')\n"
     ]
    },
    {
     "name": "stdout",
     "output_type": "stream",
     "text": [
      "\n",
      "MAKIM\n",
      "[*********************100%***********************]  1 of 1 completed"
     ]
    },
    {
     "name": "stderr",
     "output_type": "stream",
     "text": [
      "ERROR \n",
      "1 Failed download:\n",
      "ERROR ['MAKIM.IS']: Exception('MAKIM.IS: 1d data not available for startTime=-2208994789 and endTime=1702980678. Only 100 years worth of day granularity data are allowed to be fetched per request.')\n"
     ]
    },
    {
     "name": "stdout",
     "output_type": "stream",
     "text": [
      "\n",
      "EUREN\n",
      "[*********************100%***********************]  1 of 1 completed"
     ]
    },
    {
     "name": "stderr",
     "output_type": "stream",
     "text": [
      "ERROR \n",
      "1 Failed download:\n",
      "ERROR ['EUREN.IS']: Exception('EUREN.IS: 1d data not available for startTime=-2208994789 and endTime=1702980692. Only 100 years worth of day granularity data are allowed to be fetched per request.')\n"
     ]
    },
    {
     "name": "stdout",
     "output_type": "stream",
     "text": [
      "\n",
      "SEGYO\n",
      "[*********************100%***********************]  1 of 1 completed"
     ]
    },
    {
     "name": "stderr",
     "output_type": "stream",
     "text": [
      "ERROR \n",
      "1 Failed download:\n",
      "ERROR ['SEGYO.IS']: Exception('SEGYO.IS: 1d data not available for startTime=-2208994789 and endTime=1702980706. Only 100 years worth of day granularity data are allowed to be fetched per request.')\n"
     ]
    },
    {
     "name": "stdout",
     "output_type": "stream",
     "text": [
      "\n",
      "SUNTK\n",
      "[*********************100%***********************]  1 of 1 completed\n",
      "YYLGD\n",
      "[*********************100%***********************]  1 of 1 completed\n",
      "BMSTL\n",
      "[*********************100%***********************]  1 of 1 completed"
     ]
    },
    {
     "name": "stderr",
     "output_type": "stream",
     "text": [
      "ERROR \n",
      "1 Failed download:\n",
      "ERROR ['BMSTL.IS']: Exception('BMSTL.IS: 1d data not available for startTime=-2208994789 and endTime=1702980721. Only 100 years worth of day granularity data are allowed to be fetched per request.')\n"
     ]
    },
    {
     "name": "stdout",
     "output_type": "stream",
     "text": [
      "\n",
      "IMASM\n",
      "[*********************100%***********************]  1 of 1 completed"
     ]
    },
    {
     "name": "stderr",
     "output_type": "stream",
     "text": [
      "ERROR \n",
      "1 Failed download:\n",
      "ERROR ['IMASM.IS']: Exception('IMASM.IS: 1d data not available for startTime=-2208994789 and endTime=1702980735. Only 100 years worth of day granularity data are allowed to be fetched per request.')\n"
     ]
    },
    {
     "name": "stdout",
     "output_type": "stream",
     "text": [
      "\n",
      "KMPUR\n",
      "[*********************100%***********************]  1 of 1 completed\n",
      "CONSE\n",
      "[*********************100%***********************]  1 of 1 completed"
     ]
    },
    {
     "name": "stderr",
     "output_type": "stream",
     "text": [
      "ERROR \n",
      "1 Failed download:\n",
      "ERROR ['CONSE.IS']: Exception('CONSE.IS: 1d data not available for startTime=-2208994789 and endTime=1702980750. Only 100 years worth of day granularity data are allowed to be fetched per request.')\n"
     ]
    },
    {
     "name": "stdout",
     "output_type": "stream",
     "text": [
      "\n",
      "SUWEN\n",
      "[*********************100%***********************]  1 of 1 completed"
     ]
    },
    {
     "name": "stderr",
     "output_type": "stream",
     "text": [
      "ERROR \n",
      "1 Failed download:\n",
      "ERROR ['SUWEN.IS']: Exception('SUWEN.IS: 1d data not available for startTime=-2208994789 and endTime=1702980764. Only 100 years worth of day granularity data are allowed to be fetched per request.')\n"
     ]
    },
    {
     "name": "stdout",
     "output_type": "stream",
     "text": [
      "\n",
      "LIDER\n",
      "[*********************100%***********************]  1 of 1 completed"
     ]
    },
    {
     "name": "stderr",
     "output_type": "stream",
     "text": [
      "ERROR \n",
      "1 Failed download:\n",
      "ERROR ['LIDER.IS']: Exception('LIDER.IS: 1d data not available for startTime=-2208994789 and endTime=1702980778. Only 100 years worth of day granularity data are allowed to be fetched per request.')\n"
     ]
    },
    {
     "name": "stdout",
     "output_type": "stream",
     "text": [
      "\n",
      "SMRTG\n",
      "[*********************100%***********************]  1 of 1 completed\n",
      "ENSRI\n",
      "[*********************100%***********************]  1 of 1 completed"
     ]
    },
    {
     "name": "stderr",
     "output_type": "stream",
     "text": [
      "ERROR \n",
      "1 Failed download:\n",
      "ERROR ['ENSRI.IS']: Exception('ENSRI.IS: 1d data not available for startTime=-2208994789 and endTime=1702980792. Only 100 years worth of day granularity data are allowed to be fetched per request.')\n"
     ]
    },
    {
     "name": "stdout",
     "output_type": "stream",
     "text": [
      "\n",
      "GRSEL\n",
      "[*********************100%***********************]  1 of 1 completed"
     ]
    },
    {
     "name": "stderr",
     "output_type": "stream",
     "text": [
      "ERROR \n",
      "1 Failed download:\n",
      "ERROR ['GRSEL.IS']: Exception('GRSEL.IS: 1d data not available for startTime=-2208994789 and endTime=1702980806. Only 100 years worth of day granularity data are allowed to be fetched per request.')\n"
     ]
    },
    {
     "name": "stdout",
     "output_type": "stream",
     "text": [
      "\n",
      "GZNMI\n",
      "[*********************100%***********************]  1 of 1 completed"
     ]
    },
    {
     "name": "stderr",
     "output_type": "stream",
     "text": [
      "ERROR \n",
      "1 Failed download:\n",
      "ERROR ['GZNMI.IS']: Exception('GZNMI.IS: 1d data not available for startTime=-2208994789 and endTime=1702980820. Only 100 years worth of day granularity data are allowed to be fetched per request.')\n"
     ]
    },
    {
     "name": "stdout",
     "output_type": "stream",
     "text": [
      "\n",
      "KLSYN\n",
      "[*********************100%***********************]  1 of 1 completed"
     ]
    },
    {
     "name": "stderr",
     "output_type": "stream",
     "text": [
      "ERROR \n",
      "1 Failed download:\n",
      "ERROR ['KLSYN.IS']: Exception('KLSYN.IS: 1d data not available for startTime=-2208994789 and endTime=1702980834. Only 100 years worth of day granularity data are allowed to be fetched per request.')\n"
     ]
    },
    {
     "name": "stdout",
     "output_type": "stream",
     "text": [
      "\n",
      "HTTBT\n",
      "[*********************100%***********************]  1 of 1 completed\n",
      "INVES\n",
      "[*********************100%***********************]  1 of 1 completed"
     ]
    },
    {
     "name": "stderr",
     "output_type": "stream",
     "text": [
      "ERROR \n",
      "1 Failed download:\n",
      "ERROR ['INVES.IS']: Exception('INVES.IS: 1d data not available for startTime=-2208994789 and endTime=1702980848. Only 100 years worth of day granularity data are allowed to be fetched per request.')\n"
     ]
    },
    {
     "name": "stdout",
     "output_type": "stream",
     "text": [
      "\n",
      "DAPGM\n",
      "[*********************100%***********************]  1 of 1 completed\n",
      "HUNER\n",
      "[*********************100%***********************]  1 of 1 completed"
     ]
    },
    {
     "name": "stderr",
     "output_type": "stream",
     "text": [
      "ERROR \n",
      "1 Failed download:\n",
      "ERROR ['HUNER.IS']: Exception('HUNER.IS: 1d data not available for startTime=-2208994789 and endTime=1702980862. Only 100 years worth of day granularity data are allowed to be fetched per request.')\n"
     ]
    },
    {
     "name": "stdout",
     "output_type": "stream",
     "text": [
      "\n",
      "PNLSN\n",
      "[*********************100%***********************]  1 of 1 completed\n",
      "ERCB\n",
      "[*********************100%***********************]  1 of 1 completed"
     ]
    },
    {
     "name": "stderr",
     "output_type": "stream",
     "text": [
      "ERROR \n",
      "1 Failed download:\n",
      "ERROR ['ERCB.IS']: Exception('ERCB.IS: 1d data not available for startTime=-2208994789 and endTime=1702980878. Only 100 years worth of day granularity data are allowed to be fetched per request.')\n"
     ]
    },
    {
     "name": "stdout",
     "output_type": "stream",
     "text": [
      "\n",
      "PSGYO\n",
      "[*********************100%***********************]  1 of 1 completed\n",
      "RNPOL\n",
      "[*********************100%***********************]  1 of 1 completed"
     ]
    },
    {
     "name": "stderr",
     "output_type": "stream",
     "text": [
      "ERROR \n",
      "1 Failed download:\n",
      "ERROR ['RNPOL.IS']: Exception('RNPOL.IS: 1d data not available for startTime=-2208994789 and endTime=1702980892. Only 100 years worth of day granularity data are allowed to be fetched per request.')\n"
     ]
    },
    {
     "name": "stdout",
     "output_type": "stream",
     "text": [
      "\n",
      "PCILT\n",
      "[*********************100%***********************]  1 of 1 completed"
     ]
    },
    {
     "name": "stderr",
     "output_type": "stream",
     "text": [
      "ERROR \n",
      "1 Failed download:\n",
      "ERROR ['PCILT.IS']: Exception('PCILT.IS: 1d data not available for startTime=-2208994789 and endTime=1702980906. Only 100 years worth of day granularity data are allowed to be fetched per request.')\n"
     ]
    },
    {
     "name": "stdout",
     "output_type": "stream",
     "text": [
      "\n",
      "GMTAS\n",
      "[*********************100%***********************]  1 of 1 completed"
     ]
    },
    {
     "name": "stderr",
     "output_type": "stream",
     "text": [
      "ERROR \n",
      "1 Failed download:\n",
      "ERROR ['GMTAS.IS']: Exception('GMTAS.IS: 1d data not available for startTime=-2208994789 and endTime=1702980920. Only 100 years worth of day granularity data are allowed to be fetched per request.')\n"
     ]
    },
    {
     "name": "stdout",
     "output_type": "stream",
     "text": [
      "\n",
      "KONKA\n",
      "[*********************100%***********************]  1 of 1 completed\n",
      "MOBTL\n",
      "[*********************100%***********************]  1 of 1 completed"
     ]
    },
    {
     "name": "stderr",
     "output_type": "stream",
     "text": [
      "ERROR \n",
      "1 Failed download:\n",
      "ERROR ['MOBTL.IS']: Exception('MOBTL.IS: 1d data not available for startTime=-2208994789 and endTime=1702980934. Only 100 years worth of day granularity data are allowed to be fetched per request.')\n"
     ]
    },
    {
     "name": "stdout",
     "output_type": "stream",
     "text": [
      "\n",
      "MIATK\n",
      "[*********************100%***********************]  1 of 1 completed\n",
      "ISSEN\n",
      "[*********************100%***********************]  1 of 1 completed"
     ]
    },
    {
     "name": "stderr",
     "output_type": "stream",
     "text": [
      "ERROR \n",
      "1 Failed download:\n",
      "ERROR ['ISSEN.IS']: Exception('ISSEN.IS: 1d data not available for startTime=-2208994789 and endTime=1702980949. Only 100 years worth of day granularity data are allowed to be fetched per request.')\n"
     ]
    },
    {
     "name": "stdout",
     "output_type": "stream",
     "text": [
      "\n",
      "ELITE\n",
      "[*********************100%***********************]  1 of 1 completed"
     ]
    },
    {
     "name": "stderr",
     "output_type": "stream",
     "text": [
      "ERROR \n",
      "1 Failed download:\n",
      "ERROR ['ELITE.IS']: Exception('ELITE.IS: 1d data not available for startTime=-2208994789 and endTime=1702980962. Only 100 years worth of day granularity data are allowed to be fetched per request.')\n"
     ]
    },
    {
     "name": "stdout",
     "output_type": "stream",
     "text": [
      "\n",
      "ARASE\n",
      "[*********************100%***********************]  1 of 1 completed"
     ]
    },
    {
     "name": "stderr",
     "output_type": "stream",
     "text": [
      "ERROR \n",
      "1 Failed download:\n",
      "ERROR ['ARASE.IS']: Exception('ARASE.IS: 1d data not available for startTime=-2208994789 and endTime=1702980976. Only 100 years worth of day granularity data are allowed to be fetched per request.')\n"
     ]
    },
    {
     "name": "stdout",
     "output_type": "stream",
     "text": [
      "\n",
      "ULUFA\n",
      "[*********************100%***********************]  1 of 1 completed\n",
      "IHAAS\n",
      "[*********************100%***********************]  1 of 1 completed"
     ]
    },
    {
     "name": "stderr",
     "output_type": "stream",
     "text": [
      "ERROR \n",
      "1 Failed download:\n",
      "ERROR ['IHAAS.IS']: Exception('IHAAS.IS: 1d data not available for startTime=-2208994789 and endTime=1702980991. Only 100 years worth of day granularity data are allowed to be fetched per request.')\n"
     ]
    },
    {
     "name": "stdout",
     "output_type": "stream",
     "text": [
      "\n",
      "ANGEN\n",
      "[*********************100%***********************]  1 of 1 completed\n",
      "HEDEF\n",
      "[*********************100%***********************]  1 of 1 completed\n",
      "GLCVY\n",
      "[*********************100%***********************]  1 of 1 completed\n",
      "MAGEN\n",
      "[*********************100%***********************]  1 of 1 completed\n",
      "KIMMR\n",
      "[*********************100%***********************]  1 of 1 completed"
     ]
    },
    {
     "name": "stderr",
     "output_type": "stream",
     "text": [
      "ERROR \n",
      "1 Failed download:\n",
      "ERROR ['KIMMR.IS']: Exception('KIMMR.IS: 1d data not available for startTime=-2208994789 and endTime=1702981006. Only 100 years worth of day granularity data are allowed to be fetched per request.')\n"
     ]
    },
    {
     "name": "stdout",
     "output_type": "stream",
     "text": [
      "\n",
      "TEZOL\n",
      "[*********************100%***********************]  1 of 1 completed\n",
      "YEOTK\n",
      "[*********************100%***********************]  1 of 1 completed"
     ]
    },
    {
     "name": "stderr",
     "output_type": "stream",
     "text": [
      "ERROR \n",
      "1 Failed download:\n",
      "ERROR ['YEOTK.IS']: Exception('YEOTK.IS: 1d data not available for startTime=-2208994789 and endTime=1702981020. Only 100 years worth of day granularity data are allowed to be fetched per request.')\n"
     ]
    },
    {
     "name": "stdout",
     "output_type": "stream",
     "text": [
      "\n",
      "ORCAY\n",
      "[*********************100%***********************]  1 of 1 completed\n",
      "EGEPO\n",
      "[*********************100%***********************]  1 of 1 completed"
     ]
    },
    {
     "name": "stderr",
     "output_type": "stream",
     "text": [
      "ERROR \n",
      "1 Failed download:\n",
      "ERROR ['EGEPO.IS']: Exception('EGEPO.IS: 1d data not available for startTime=-2208994789 and endTime=1702981034. Only 100 years worth of day granularity data are allowed to be fetched per request.')\n"
     ]
    },
    {
     "name": "stdout",
     "output_type": "stream",
     "text": [
      "\n",
      "BRLSM\n",
      "[*********************100%***********************]  1 of 1 completed\n",
      "GESAN\n",
      "[*********************100%***********************]  1 of 1 completed\n",
      "KZBGY\n",
      "[*********************100%***********************]  1 of 1 completed\n",
      "GENIL\n",
      "[*********************100%***********************]  1 of 1 completed\n",
      "MANAS\n",
      "[*********************100%***********************]  1 of 1 completed"
     ]
    },
    {
     "name": "stderr",
     "output_type": "stream",
     "text": [
      "ERROR \n",
      "1 Failed download:\n",
      "ERROR ['MANAS.IS']: Exception('MANAS.IS: 1d data not available for startTime=-2208994789 and endTime=1702981050. Only 100 years worth of day granularity data are allowed to be fetched per request.')\n"
     ]
    },
    {
     "name": "stdout",
     "output_type": "stream",
     "text": [
      "\n",
      "KARYE\n",
      "[*********************100%***********************]  1 of 1 completed"
     ]
    },
    {
     "name": "stderr",
     "output_type": "stream",
     "text": [
      "ERROR \n",
      "1 Failed download:\n",
      "ERROR ['KARYE.IS']: Exception('KARYE.IS: 1d data not available for startTime=-2208994789 and endTime=1702981064. Only 100 years worth of day granularity data are allowed to be fetched per request.')\n"
     ]
    },
    {
     "name": "stdout",
     "output_type": "stream",
     "text": [
      "\n",
      "ESCAR\n",
      "[*********************100%***********************]  1 of 1 completed"
     ]
    },
    {
     "name": "stderr",
     "output_type": "stream",
     "text": [
      "ERROR \n",
      "1 Failed download:\n",
      "ERROR ['ESCAR.IS']: Exception('ESCAR.IS: 1d data not available for startTime=-2208994789 and endTime=1702981078. Only 100 years worth of day granularity data are allowed to be fetched per request.')\n"
     ]
    },
    {
     "name": "stdout",
     "output_type": "stream",
     "text": [
      "\n",
      "VBTYZ\n",
      "[*********************100%***********************]  1 of 1 completed\n",
      "KTSKR\n",
      "[*********************100%***********************]  1 of 1 completed"
     ]
    },
    {
     "name": "stderr",
     "output_type": "stream",
     "text": [
      "ERROR \n",
      "1 Failed download:\n",
      "ERROR ['KTSKR.IS']: Exception('KTSKR.IS: 1d data not available for startTime=-2208994789 and endTime=1702981092. Only 100 years worth of day granularity data are allowed to be fetched per request.')\n"
     ]
    },
    {
     "name": "stdout",
     "output_type": "stream",
     "text": [
      "\n",
      "EDATA\n",
      "[*********************100%***********************]  1 of 1 completed"
     ]
    },
    {
     "name": "stderr",
     "output_type": "stream",
     "text": [
      "ERROR \n",
      "1 Failed download:\n",
      "ERROR ['EDATA.IS']: Exception('EDATA.IS: 1d data not available for startTime=-2208994789 and endTime=1702981105. Only 100 years worth of day granularity data are allowed to be fetched per request.')\n"
     ]
    },
    {
     "name": "stdout",
     "output_type": "stream",
     "text": [
      "\n",
      "MEDTR\n",
      "[*********************100%***********************]  1 of 1 completed\n",
      "SELVA\n",
      "[*********************100%***********************]  1 of 1 completed"
     ]
    },
    {
     "name": "stderr",
     "output_type": "stream",
     "text": [
      "ERROR \n",
      "1 Failed download:\n",
      "ERROR ['SELVA.IS']: Exception('SELVA.IS: 1d data not available for startTime=-2208994789 and endTime=1702981120. Only 100 years worth of day granularity data are allowed to be fetched per request.')\n"
     ]
    },
    {
     "name": "stdout",
     "output_type": "stream",
     "text": [
      "\n",
      "BASGZ\n",
      "[*********************100%***********************]  1 of 1 completed"
     ]
    },
    {
     "name": "stderr",
     "output_type": "stream",
     "text": [
      "ERROR \n",
      "1 Failed download:\n",
      "ERROR ['BASGZ.IS']: Exception('BASGZ.IS: 1d data not available for startTime=-2208994789 and endTime=1702981134. Only 100 years worth of day granularity data are allowed to be fetched per request.')\n"
     ]
    },
    {
     "name": "stdout",
     "output_type": "stream",
     "text": [
      "\n",
      "OYYAT\n",
      "[*********************100%***********************]  1 of 1 completed\n",
      "BMSCH\n",
      "[*********************100%***********************]  1 of 1 completed\n",
      "UNLU\n",
      "[*********************100%***********************]  1 of 1 completed\n",
      "BOBET\n",
      "[*********************100%***********************]  1 of 1 completed"
     ]
    },
    {
     "name": "stderr",
     "output_type": "stream",
     "text": [
      "ERROR \n",
      "1 Failed download:\n",
      "ERROR ['BOBET.IS']: Exception('BOBET.IS: 1d data not available for startTime=-2208994789 and endTime=1702981149. Only 100 years worth of day granularity data are allowed to be fetched per request.')\n"
     ]
    },
    {
     "name": "stdout",
     "output_type": "stream",
     "text": [
      "\n",
      "ATATP\n",
      "[*********************100%***********************]  1 of 1 completed\n",
      "MERCN\n",
      "[*********************100%***********************]  1 of 1 completed"
     ]
    },
    {
     "name": "stderr",
     "output_type": "stream",
     "text": [
      "ERROR \n",
      "1 Failed download:\n",
      "ERROR ['MERCN.IS']: Exception('MERCN.IS: 1d data not available for startTime=-2208994789 and endTime=1702981163. Only 100 years worth of day granularity data are allowed to be fetched per request.')\n"
     ]
    },
    {
     "name": "stdout",
     "output_type": "stream",
     "text": [
      "\n",
      "KLKIM\n",
      "[*********************100%***********************]  1 of 1 completed\n",
      "PENTA\n",
      "[*********************100%***********************]  1 of 1 completed\n",
      "ZRGYO\n",
      "[*********************100%***********************]  1 of 1 completed\n",
      "CANTE\n",
      "[*********************100%***********************]  1 of 1 completed\n",
      "AYDEM\n",
      "[*********************100%***********************]  1 of 1 completed\n",
      "BIOEN\n",
      "[*********************100%***********************]  1 of 1 completed"
     ]
    },
    {
     "name": "stderr",
     "output_type": "stream",
     "text": [
      "ERROR \n",
      "1 Failed download:\n",
      "ERROR ['BIOEN.IS']: Exception('BIOEN.IS: 1d data not available for startTime=-2208994789 and endTime=1702981179. Only 100 years worth of day granularity data are allowed to be fetched per request.')\n"
     ]
    },
    {
     "name": "stdout",
     "output_type": "stream",
     "text": [
      "\n",
      "GWIND\n",
      "[*********************100%***********************]  1 of 1 completed\n",
      "TUREX\n",
      "[*********************100%***********************]  1 of 1 completed"
     ]
    },
    {
     "name": "stderr",
     "output_type": "stream",
     "text": [
      "ERROR \n",
      "1 Failed download:\n",
      "ERROR ['TUREX.IS']: Exception('TUREX.IS: 1d data not available for startTime=-2208994789 and endTime=1702981194. Only 100 years worth of day granularity data are allowed to be fetched per request.')\n"
     ]
    },
    {
     "name": "stdout",
     "output_type": "stream",
     "text": [
      "\n",
      "QUAGR\n",
      "[*********************100%***********************]  1 of 1 completed\n",
      "MTRKS\n",
      "[*********************100%***********************]  1 of 1 completed"
     ]
    },
    {
     "name": "stderr",
     "output_type": "stream",
     "text": [
      "ERROR \n",
      "1 Failed download:\n",
      "ERROR ['MTRKS.IS']: Exception('MTRKS.IS: 1d data not available for startTime=-2208994789 and endTime=1702981208. Only 100 years worth of day granularity data are allowed to be fetched per request.')\n"
     ]
    },
    {
     "name": "stdout",
     "output_type": "stream",
     "text": [
      "\n",
      "NTGAZ\n",
      "[*********************100%***********************]  1 of 1 completed"
     ]
    },
    {
     "name": "stderr",
     "output_type": "stream",
     "text": [
      "ERROR \n",
      "1 Failed download:\n",
      "ERROR ['NTGAZ.IS']: Exception('NTGAZ.IS: 1d data not available for startTime=-2208994789 and endTime=1702981222. Only 100 years worth of day granularity data are allowed to be fetched per request.')\n"
     ]
    },
    {
     "name": "stdout",
     "output_type": "stream",
     "text": [
      "\n",
      "TRILC\n",
      "[*********************100%***********************]  1 of 1 completed"
     ]
    },
    {
     "name": "stderr",
     "output_type": "stream",
     "text": [
      "ERROR \n",
      "1 Failed download:\n",
      "ERROR ['TRILC.IS']: Exception('TRILC.IS: 1d data not available for startTime=-2208994789 and endTime=1702981236. Only 100 years worth of day granularity data are allowed to be fetched per request.')\n"
     ]
    },
    {
     "name": "stdout",
     "output_type": "stream",
     "text": [
      "\n",
      "ISKPL\n",
      "[*********************100%***********************]  1 of 1 completed"
     ]
    },
    {
     "name": "stderr",
     "output_type": "stream",
     "text": [
      "ERROR \n",
      "1 Failed download:\n",
      "ERROR ['ISKPL.IS']: Exception('ISKPL.IS: 1d data not available for startTime=-2208994789 and endTime=1702981249. Only 100 years worth of day granularity data are allowed to be fetched per request.')\n"
     ]
    },
    {
     "name": "stdout",
     "output_type": "stream",
     "text": [
      "\n"
     ]
    }
   ],
   "source": [
    "for stock in stocks:\n",
    "    print(stock)\n",
    "    stocks[stock].update({'Hist_data': get_hist_data(stock, time_delta=1100)})\n",
    "    "
   ]
  },
  {
   "cell_type": "code",
   "execution_count": 23,
   "metadata": {},
   "outputs": [],
   "source": [
    "import pickle"
   ]
  },
  {
   "cell_type": "code",
   "execution_count": 34,
   "metadata": {},
   "outputs": [],
   "source": [
    "\n",
    "with open('stocks.p', 'wb') as handle:\n",
    "    pickle.dump(stocks, handle, protocol=pickle.HIGHEST_PROTOCOL)\n",
    "\n",
    "with open('stocks.p', 'rb') as handle:\n",
    "    b = pickle.load(handle)\n",
    "\n"
   ]
  },
  {
   "cell_type": "code",
   "execution_count": 32,
   "metadata": {},
   "outputs": [
    {
     "data": {
      "text/plain": [
       "dict"
      ]
     },
     "execution_count": 32,
     "metadata": {},
     "output_type": "execute_result"
    }
   ],
   "source": [
    "type(b)"
   ]
  },
  {
   "cell_type": "code",
   "execution_count": null,
   "metadata": {},
   "outputs": [],
   "source": []
  }
 ],
 "metadata": {
  "kernelspec": {
   "display_name": "Python 3",
   "language": "python",
   "name": "python3"
  },
  "language_info": {
   "codemirror_mode": {
    "name": "ipython",
    "version": 3
   },
   "file_extension": ".py",
   "mimetype": "text/x-python",
   "name": "python",
   "nbconvert_exporter": "python",
   "pygments_lexer": "ipython3",
   "version": "3.8.10"
  }
 },
 "nbformat": 4,
 "nbformat_minor": 2
}
