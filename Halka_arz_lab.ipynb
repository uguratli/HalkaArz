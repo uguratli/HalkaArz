{
 "cells": [
  {
   "cell_type": "code",
   "execution_count": 2,
   "metadata": {},
   "outputs": [],
   "source": [
    "from bs4 import BeautifulSoup as bs\n",
    "from bs4.element import Comment\n",
    "import pandas as pd\n",
    "import numpy as np\n",
    "import requests\n",
    "import gspread\n",
    "from oauth2client.service_account import ServiceAccountCredentials\n",
    "import datetime as dt"
   ]
  },
  {
   "cell_type": "code",
   "execution_count": 6,
   "metadata": {},
   "outputs": [],
   "source": [
    "def months(month):\n",
    "        Months = {\n",
    "                'Ocak': '1',\t\n",
    "                'Şubat': '2',\n",
    "                'Mart': '3',\t\n",
    "                'Nisan': '4',\t\n",
    "                'Mayıs': '5',\t\n",
    "                'Haziran': '6',\t\n",
    "                'Temmuz': '7',\t\n",
    "                'Ağustos': '8',\t\n",
    "                'Eylül': '9',\t\n",
    "                'Ekim': '10',\t\n",
    "                'Kasım': '11',\t\n",
    "                'Aralık': '12'\n",
    "                }       \n",
    "        if month in Months:\n",
    "                return Months[month]\n",
    "        else:\n",
    "                return month\n",
    "def fix_time_it(time):\n",
    "        str_time = ''\n",
    "        for i in time.split(' '):\n",
    "                str_time += months(i) + '-'\n",
    "        #return str_time[:-1]\n",
    "        return dt.datetime.strptime(str(str_time[:-1]), '%d-%m-%Y').date()\n"
   ]
  },
  {
   "cell_type": "code",
   "execution_count": 3,
   "metadata": {},
   "outputs": [],
   "source": [
    "\n",
    "def make_request(url):\n",
    "    \"\"\"Request maker.\n",
    "    Makes request for given url.\"\"\"\n",
    "    headers = {'User-Agent': \"Mozilla/5.0 (Windows NT 10.0; Win64; x64) AppleWebKit/537.36 (KHTML, like Gecko) Chrome/42.0.2311.135 Safari/537.36 Edge/12.246\"}\n",
    "    return requests.get(url=url, headers=headers)"
   ]
  },
  {
   "cell_type": "code",
   "execution_count": 4,
   "metadata": {},
   "outputs": [],
   "source": [
    "def make_soup(url):\n",
    "    \"\"\"Soup maker.\n",
    "    Returns soup for given url.\"\"\"\n",
    "    r = make_request(url)\n",
    "    if r.status_code == 200:\n",
    "        return bs(r.content, 'html5lib')\n",
    "    else:\n",
    "        return False"
   ]
  },
  {
   "cell_type": "code",
   "execution_count": 5,
   "metadata": {},
   "outputs": [],
   "source": [
    "def get_halka_arz_info(url, soup = False):\n",
    "    cols = []\n",
    "    vals = []\n",
    "    if not soup:\n",
    "        soup = make_soup(url)\n",
    "    info_table = soup.find('table', {'class': 'sp-table'})\n",
    "    rows = info_table.find_all('tr')\n",
    "    for row in rows:\n",
    "        row_data = row.find_all('td')\n",
    "        cols.append(row_data[0].text)\n",
    "        vals.append(row_data[1].text)\n",
    "    return pd.DataFrame(data = [vals], columns = cols).drop(columns = 'Halka Arz Tarihi : ')   "
   ]
  },
  {
   "cell_type": "code",
   "execution_count": null,
   "metadata": {},
   "outputs": [],
   "source": [
    "def get_halka_arz_result(url, soup = False):\n",
    "    if not soup:\n",
    "        soup = make_soup(url)\n",
    "    vals = []\n",
    "    cols = ['Yurtiçi_Bireysel_Kisi', 'Yurtiçi_Bireysel_Lot',\n",
    "        'Yurtiçi_Kurumsal_Kisi', 'Yurtiçi_Kurumsal_Lot',\n",
    "        'Yurtdışı_Kurumsal_Kisi', 'Yurtdışı_Kurumsal_Lot',\n",
    "        'Şirket_Çalışanları_Kisi', 'Şirket_Çalışanları_Lot']\n",
    "    table = soup.find('table', {'class': 'as-table'})\n",
    "    rows = table.find_all('tr')\n",
    "    for i in range(2, len(rows)-2):\n",
    "        row_data = rows[i].find_all('td')\n",
    "        for j in range(1,3):\n",
    "            vals.append(row_data[j].text)\n",
    "    return pd.DataFrame(data = [vals], columns = cols)"
   ]
  }
 ],
 "metadata": {
  "kernelspec": {
   "display_name": "Python 3",
   "language": "python",
   "name": "python3"
  },
  "language_info": {
   "codemirror_mode": {
    "name": "ipython",
    "version": 3
   },
   "file_extension": ".py",
   "mimetype": "text/x-python",
   "name": "python",
   "nbconvert_exporter": "python",
   "pygments_lexer": "ipython3",
   "version": "3.8.10"
  }
 },
 "nbformat": 4,
 "nbformat_minor": 2
}
