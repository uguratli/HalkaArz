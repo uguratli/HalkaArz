{
 "cells": [
  {
   "cell_type": "code",
   "execution_count": 2,
   "metadata": {},
   "outputs": [],
   "source": [
    "from bs4 import BeautifulSoup as bs\n",
    "from bs4.element import Comment\n",
    "import pandas as pd\n",
    "import numpy as np\n",
    "import requests\n",
    "import gspread\n",
    "from oauth2client.service_account import ServiceAccountCredentials"
   ]
  },
  {
   "cell_type": "code",
   "execution_count": 3,
   "metadata": {},
   "outputs": [],
   "source": [
    "\n",
    "def make_request(url):\n",
    "    \"\"\"Request maker.\n",
    "    Makes request for given url.\"\"\"\n",
    "    headers = {'User-Agent': \"Mozilla/5.0 (Windows NT 10.0; Win64; x64) AppleWebKit/537.36 (KHTML, like Gecko) Chrome/42.0.2311.135 Safari/537.36 Edge/12.246\"}\n",
    "    return requests.get(url=url, headers=headers)"
   ]
  },
  {
   "cell_type": "code",
   "execution_count": 4,
   "metadata": {},
   "outputs": [],
   "source": [
    "def make_soup(url):\n",
    "    \"\"\"Soup maker.\n",
    "    Returns soup for given url.\"\"\"\n",
    "    r = make_request(url)\n",
    "    if r.status_code == 200:\n",
    "        return bs(r.content, 'html5lib')\n",
    "    else:\n",
    "        return False"
   ]
  },
  {
   "cell_type": "code",
   "execution_count": 5,
   "metadata": {},
   "outputs": [],
   "source": [
    "def get_halka_arz_info(url, soup = False):\n",
    "    cols = []\n",
    "    vals = []\n",
    "    if not soup:\n",
    "        soup = make_soup(url)\n",
    "    info_table = soup.find('table', {'class': 'sp-table'})\n",
    "    rows = info_table.find_all('tr')\n",
    "    for row in rows:\n",
    "        info = row.find_all('td')\n",
    "        cols.append(info[0].text)\n",
    "        vals.append(info[1].text)\n",
    "    return pd.DataFrame(data = [vals], columns = cols).drop(columns = 'Halka Arz Tarihi : ')   "
   ]
  }
 ],
 "metadata": {
  "kernelspec": {
   "display_name": "Python 3",
   "language": "python",
   "name": "python3"
  },
  "language_info": {
   "codemirror_mode": {
    "name": "ipython",
    "version": 3
   },
   "file_extension": ".py",
   "mimetype": "text/x-python",
   "name": "python",
   "nbconvert_exporter": "python",
   "pygments_lexer": "ipython3",
   "version": "3.8.10"
  }
 },
 "nbformat": 4,
 "nbformat_minor": 2
}
