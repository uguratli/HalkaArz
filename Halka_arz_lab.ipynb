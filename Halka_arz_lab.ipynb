{
 "cells": [
  {
   "cell_type": "code",
   "execution_count": 43,
   "metadata": {},
   "outputs": [],
   "source": [
    "from bs4 import BeautifulSoup as bs\n",
    "from bs4.element import Comment\n",
    "import pandas as pd\n",
    "import numpy as np\n",
    "import requests\n",
    "import gspread\n",
    "from oauth2client.service_account import ServiceAccountCredentials\n",
    "import datetime as dt\n",
    "import string\n",
    "import time"
   ]
  },
  {
   "cell_type": "code",
   "execution_count": 10,
   "metadata": {},
   "outputs": [],
   "source": [
    "def value_fix(value, replace = False):\n",
    "    letters_pattern = str.maketrans('', '', string.ascii_letters)\n",
    "    value = value.translate(letters_pattern).strip()\n",
    "    if replace:\n",
    "        return float(value.replace(',', '.'))\n",
    "    else:\n",
    "        return value.replace(',', '')\n"
   ]
  },
  {
   "cell_type": "code",
   "execution_count": 2,
   "metadata": {},
   "outputs": [],
   "source": [
    "def months(month):\n",
    "        Months = {\n",
    "                'Ocak': '1',\t\n",
    "                'Şubat': '2',\n",
    "                'Mart': '3',\t\n",
    "                'Nisan': '4',\t\n",
    "                'Mayıs': '5',\t\n",
    "                'Haziran': '6',\t\n",
    "                'Temmuz': '7',\t\n",
    "                'Ağustos': '8',\t\n",
    "                'Eylül': '9',\t\n",
    "                'Ekim': '10',\t\n",
    "                'Kasım': '11',\t\n",
    "                'Aralık': '12'\n",
    "                }       \n",
    "        if month in Months:\n",
    "                return Months[month]\n",
    "        else:\n",
    "                return month\n",
    "def fix_time_it(time):\n",
    "        str_time = ''\n",
    "        for i in time.split(' '):\n",
    "                str_time += months(i) + '-'\n",
    "        #return str_time[:-1]\n",
    "        return dt.datetime.strptime(str(str_time[:-1]), '%d-%m-%Y').date()\n"
   ]
  },
  {
   "cell_type": "code",
   "execution_count": null,
   "metadata": {},
   "outputs": [],
   "source": [
    "def time_it(time):\n",
    "    \"\"\"\n",
    "    Returns time data type of given string in form Y-m-d.\n",
    "    Example: 2001-01-01.\"\"\"\n",
    "    return dt.datetime.strptime(str(time), '%Y-%m-%d')"
   ]
  },
  {
   "cell_type": "code",
   "execution_count": 1,
   "metadata": {},
   "outputs": [],
   "source": [
    "def g_stocks(stock, time_delta = 999):\n",
    "    scope =  ['https://www.googleapis.com/auth/spreadsheets', \"https://www.googleapis.com/auth/drive.file\", \"https://www.googleapis.com/auth/drive\"]\n",
    "    creds = ServiceAccountCredentials.from_json_keyfile_name('cred.json', scope)\n",
    "    client = gspread.authorize(creds)\n",
    "    sheet = client.open('stocks').sheet1\n",
    "    sheet.update_cell(1, 7, stock)\n",
    "    sheet.update_cell(1, 8, time_delta)\n",
    "    if not sheet.get_all_records() == []:\n",
    "        df = pd.DataFrame(sheet.get_all_records())[['Date', 'Open', 'High', 'Low', 'Close', 'Volume']]\n",
    "        df.drop(df[df['Close'].str.len() == 0].index, inplace = True)\n",
    "        type_map = {'Open': float,\n",
    "                    'Close': float,\n",
    "                    'High': float,\n",
    "                    'Low': float,\n",
    "                    'Volume':int}   \n",
    "        return df.astype(type_map)\n",
    "    else:\n",
    "        return pd.DataFrame(columns=['Date', 'Open', 'High', 'Low', 'Close', 'Volume'])"
   ]
  },
  {
   "cell_type": "code",
   "execution_count": 18,
   "metadata": {},
   "outputs": [],
   "source": [
    "def page_urls(url):\n",
    "    page_counter = 1\n",
    "    pages = [url]\n",
    "    soup = make_soup(url)\n",
    "    while soup.find(class_ = 'rightNav'):\n",
    "        page_counter += 1\n",
    "        pages.append(url+f'page/{page_counter}/')\n",
    "        soup = make_soup(pages[-1])\n",
    "    return pages    \n"
   ]
  },
  {
   "cell_type": "code",
   "execution_count": 3,
   "metadata": {},
   "outputs": [],
   "source": [
    "\n",
    "def make_request(url):\n",
    "    \"\"\"Request maker.\n",
    "    Makes request for given url.\"\"\"\n",
    "    headers = {'User-Agent': \"Mozilla/5.0 (Windows NT 10.0; Win64; x64) AppleWebKit/537.36 (KHTML, like Gecko) Chrome/42.0.2311.135 Safari/537.36 Edge/12.246\"}\n",
    "    return requests.get(url=url, headers=headers)"
   ]
  },
  {
   "cell_type": "code",
   "execution_count": 4,
   "metadata": {},
   "outputs": [],
   "source": [
    "def make_soup(url):\n",
    "    \"\"\"Soup maker.\n",
    "    Returns soup for given url.\"\"\"\n",
    "    r = make_request(url)\n",
    "    if r.status_code == 200:\n",
    "        return bs(r.content, 'html5lib')\n",
    "    else:\n",
    "        return False"
   ]
  },
  {
   "cell_type": "code",
   "execution_count": 32,
   "metadata": {},
   "outputs": [],
   "source": [
    "def get_halka_arz_info(url, soup = False):\n",
    "    cols = []\n",
    "    vals = []\n",
    "    if not soup:\n",
    "        soup = make_soup(url)\n",
    "    info_table = soup.find('table', {'class': 'sp-table'})\n",
    "    rows = info_table.find_all('tr')\n",
    "    for row in rows:\n",
    "        row_data = row.find_all('td')\n",
    "        cols.append(row_data[0].text)\n",
    "        vals.append(row_data[1].text)\n",
    "    return pd.DataFrame(data = [vals], columns = cols)"
   ]
  },
  {
   "cell_type": "code",
   "execution_count": 36,
   "metadata": {},
   "outputs": [],
   "source": [
    "def get_halka_arz_result(url, soup = False):\n",
    "    if not soup:\n",
    "        soup = make_soup(url)\n",
    "    vals = []\n",
    "    cols = []\n",
    "    #cols = ['Yurtiçi_Bireysel_Kisi', 'Yurtiçi_Bireysel_Lot',\n",
    "    #    'Yurtiçi_Kurumsal_Kisi', 'Yurtiçi_Kurumsal_Lot',\n",
    "    #    'Yurtdışı_Kurumsal_Kisi', 'Yurtdışı_Kurumsal_Lot',\n",
    "    #    'Şirket_Çalışanları_Kisi', 'Şirket_Çalışanları_Lot']\n",
    "    table = soup.find('table', {'class': 'as-table'})\n",
    "    if not table == None:\n",
    "        rows = table.find_all('tr')\n",
    "        for i in range(2, len(rows)-2):\n",
    "            row_data = rows[i].find_all('td')\n",
    "            for ex in ['_Kisi', '_Lot']:\n",
    "                cols.append(row_data[0].text.strip()+ex)\n",
    "            for j in range(1,3):\n",
    "                vals.append(row_data[j].text)\n",
    "        return pd.DataFrame(data = [vals], columns = cols)\n",
    "    else:\n",
    "        return pd.DataFrame()"
   ]
  },
  {
   "cell_type": "code",
   "execution_count": 20,
   "metadata": {},
   "outputs": [],
   "source": [
    "url = 'https://halkarz.com/k/halka-arz/'"
   ]
  },
  {
   "cell_type": "code",
   "execution_count": 26,
   "metadata": {},
   "outputs": [],
   "source": [
    "start_year = dt.datetime.today().year\n",
    "year_period = 3\n",
    "halka_arz_pages = {}\n",
    "stocks = {}\n",
    "for i in range(year_period):\n",
    "    year_page = url+f'{start_year - i}/'\n",
    "    #halka_arz_pages.update({page : {'Pages':page_urls(page)}})\n",
    "    pages = page_urls(year_page)\n",
    "    for page in pages:\n",
    "        page_soup = make_soup(page)\n",
    "        stocks_ = page_soup.find_all(class_ = \"halka-arz-list archives\")\n",
    "        for stock in stocks_:\n",
    "            stock_content = stock.find(class_ = 'il-content')\n",
    "            stock_symbol = stock_content.find(class_ = 'il-bist-kod').get_text(strip=True)\n",
    "            stock_name = stock_content.find(class_ = 'il-halka-arz-sirket').find('a')['title']\n",
    "            stock_page = stock_content.find(class_ = 'il-halka-arz-sirket').find('a')['href']\n",
    "            stocks.update({stock_symbol :\n",
    "                            {'url':stock_page,\n",
    "                             'stock_name':stock_name,\n",
    "                             'release_year':start_year-i}})"
   ]
  },
  {
   "cell_type": "code",
   "execution_count": 41,
   "metadata": {},
   "outputs": [],
   "source": [
    "for stock in stocks:\n",
    "    stocks[stock].update({'Halka_arz_info': get_halka_arz_info(stocks[stock]['url'])})\n",
    "    stocks[stock].update({'Halka_arz_result': get_halka_arz_result(stocks[stock]['url'])})"
   ]
  },
  {
   "cell_type": "code",
   "execution_count": 45,
   "metadata": {},
   "outputs": [
    {
     "name": "stdout",
     "output_type": "stream",
     "text": [
      "AVPGY\n",
      "MEGMT\n",
      "KBORU\n",
      "SURGY\n",
      "CATES\n",
      "SKYMD\n",
      "BEGYO\n",
      "AGROT\n",
      "EKOS\n",
      "BINHO\n",
      "MARBL\n",
      "TABGD\n",
      "VRGYO\n",
      "MHRGY\n",
      "BORLS\n",
      "DOFER\n",
      "MEKAG\n"
     ]
    },
    {
     "ename": "APIError",
     "evalue": "{'code': 429, 'message': \"Quota exceeded for quota metric 'Read requests' and limit 'Read requests per minute per user' of service 'sheets.googleapis.com' for consumer 'project_number:151682136276'.\", 'status': 'RESOURCE_EXHAUSTED', 'details': [{'@type': 'type.googleapis.com/google.rpc.ErrorInfo', 'reason': 'RATE_LIMIT_EXCEEDED', 'domain': 'googleapis.com', 'metadata': {'service': 'sheets.googleapis.com', 'quota_location': 'global', 'quota_limit_value': '60', 'consumer': 'projects/151682136276', 'quota_metric': 'sheets.googleapis.com/read_requests', 'quota_limit': 'ReadRequestsPerMinutePerUser'}}, {'@type': 'type.googleapis.com/google.rpc.Help', 'links': [{'description': 'Request a higher quota limit.', 'url': 'https://cloud.google.com/docs/quota#requesting_higher_quota'}]}]}",
     "output_type": "error",
     "traceback": [
      "\u001b[1;31m---------------------------------------------------------------------------\u001b[0m",
      "\u001b[1;31mAPIError\u001b[0m                                  Traceback (most recent call last)",
      "Cell \u001b[1;32mIn[45], line 3\u001b[0m\n\u001b[0;32m      1\u001b[0m \u001b[38;5;28;01mfor\u001b[39;00m stock \u001b[38;5;129;01min\u001b[39;00m stocks:\n\u001b[0;32m      2\u001b[0m     \u001b[38;5;28mprint\u001b[39m(stock)\n\u001b[1;32m----> 3\u001b[0m     stocks[stock]\u001b[38;5;241m.\u001b[39mupdate({\u001b[38;5;124m'\u001b[39m\u001b[38;5;124mHist_data\u001b[39m\u001b[38;5;124m'\u001b[39m: \u001b[43mg_stocks\u001b[49m\u001b[43m(\u001b[49m\u001b[43mstock\u001b[49m\u001b[43m,\u001b[49m\u001b[43m \u001b[49m\u001b[43mtime_delta\u001b[49m\u001b[38;5;241;43m=\u001b[39;49m\u001b[38;5;241;43m1100\u001b[39;49m\u001b[43m)\u001b[49m})\n\u001b[0;32m      4\u001b[0m     time\u001b[38;5;241m.\u001b[39msleep(\u001b[38;5;241m1\u001b[39m)\n",
      "Cell \u001b[1;32mIn[1], line 8\u001b[0m, in \u001b[0;36mg_stocks\u001b[1;34m(stock, time_delta)\u001b[0m\n\u001b[0;32m      6\u001b[0m sheet\u001b[38;5;241m.\u001b[39mupdate_cell(\u001b[38;5;241m1\u001b[39m, \u001b[38;5;241m7\u001b[39m, stock)\n\u001b[0;32m      7\u001b[0m sheet\u001b[38;5;241m.\u001b[39mupdate_cell(\u001b[38;5;241m1\u001b[39m, \u001b[38;5;241m8\u001b[39m, time_delta)\n\u001b[1;32m----> 8\u001b[0m \u001b[38;5;28;01mif\u001b[39;00m \u001b[38;5;129;01mnot\u001b[39;00m \u001b[43msheet\u001b[49m\u001b[38;5;241;43m.\u001b[39;49m\u001b[43mget_all_records\u001b[49m\u001b[43m(\u001b[49m\u001b[43m)\u001b[49m \u001b[38;5;241m==\u001b[39m []:\n\u001b[0;32m      9\u001b[0m     df \u001b[38;5;241m=\u001b[39m pd\u001b[38;5;241m.\u001b[39mDataFrame(sheet\u001b[38;5;241m.\u001b[39mget_all_records())[[\u001b[38;5;124m'\u001b[39m\u001b[38;5;124mDate\u001b[39m\u001b[38;5;124m'\u001b[39m, \u001b[38;5;124m'\u001b[39m\u001b[38;5;124mOpen\u001b[39m\u001b[38;5;124m'\u001b[39m, \u001b[38;5;124m'\u001b[39m\u001b[38;5;124mHigh\u001b[39m\u001b[38;5;124m'\u001b[39m, \u001b[38;5;124m'\u001b[39m\u001b[38;5;124mLow\u001b[39m\u001b[38;5;124m'\u001b[39m, \u001b[38;5;124m'\u001b[39m\u001b[38;5;124mClose\u001b[39m\u001b[38;5;124m'\u001b[39m, \u001b[38;5;124m'\u001b[39m\u001b[38;5;124mVolume\u001b[39m\u001b[38;5;124m'\u001b[39m]]\n\u001b[0;32m     10\u001b[0m     df\u001b[38;5;241m.\u001b[39mdrop(df[df[\u001b[38;5;124m'\u001b[39m\u001b[38;5;124mClose\u001b[39m\u001b[38;5;124m'\u001b[39m]\u001b[38;5;241m.\u001b[39mstr\u001b[38;5;241m.\u001b[39mlen() \u001b[38;5;241m==\u001b[39m \u001b[38;5;241m0\u001b[39m]\u001b[38;5;241m.\u001b[39mindex, inplace \u001b[38;5;241m=\u001b[39m \u001b[38;5;28;01mTrue\u001b[39;00m)\n",
      "File \u001b[1;32m~\\AppData\\Local\\Packages\\PythonSoftwareFoundation.Python.3.8_qbz5n2kfra8p0\\LocalCache\\local-packages\\Python38\\site-packages\\gspread\\utils.py:739\u001b[0m, in \u001b[0;36maccepted_kwargs.<locals>.decorate.<locals>.wrapper\u001b[1;34m(*args, **kwargs)\u001b[0m\n\u001b[0;32m    736\u001b[0m     \u001b[38;5;28;01mif\u001b[39;00m v \u001b[38;5;241m!=\u001b[39m REQUIRED_KWARGS:\n\u001b[0;32m    737\u001b[0m         kwargs\u001b[38;5;241m.\u001b[39msetdefault(k, v)\n\u001b[1;32m--> 739\u001b[0m \u001b[38;5;28;01mreturn\u001b[39;00m \u001b[43mf\u001b[49m\u001b[43m(\u001b[49m\u001b[38;5;241;43m*\u001b[39;49m\u001b[43margs\u001b[49m\u001b[43m,\u001b[49m\u001b[43m \u001b[49m\u001b[38;5;241;43m*\u001b[39;49m\u001b[38;5;241;43m*\u001b[39;49m\u001b[43mkwargs\u001b[49m\u001b[43m)\u001b[49m\n",
      "File \u001b[1;32m~\\AppData\\Local\\Packages\\PythonSoftwareFoundation.Python.3.8_qbz5n2kfra8p0\\LocalCache\\local-packages\\Python38\\site-packages\\gspread\\worksheet.py:596\u001b[0m, in \u001b[0;36mWorksheet.get_all_records\u001b[1;34m(self, **kwargs)\u001b[0m\n\u001b[0;32m    552\u001b[0m \u001b[38;5;129m@accepted_kwargs\u001b[39m(\n\u001b[0;32m    553\u001b[0m     empty2zero\u001b[38;5;241m=\u001b[39m\u001b[38;5;28;01mFalse\u001b[39;00m,\n\u001b[0;32m    554\u001b[0m     head\u001b[38;5;241m=\u001b[39m\u001b[38;5;241m1\u001b[39m,\n\u001b[1;32m   (...)\u001b[0m\n\u001b[0;32m    563\u001b[0m     \u001b[38;5;241m*\u001b[39m\u001b[38;5;241m*\u001b[39mkwargs,\n\u001b[0;32m    564\u001b[0m ):\n\u001b[0;32m    565\u001b[0m \u001b[38;5;250m    \u001b[39m\u001b[38;5;124;03m\"\"\"Returns a list of dictionaries, all of them having the contents of\u001b[39;00m\n\u001b[0;32m    566\u001b[0m \u001b[38;5;124;03m    the spreadsheet with the head row as keys and each of these\u001b[39;00m\n\u001b[0;32m    567\u001b[0m \u001b[38;5;124;03m    dictionaries holding the contents of subsequent rows of cells as\u001b[39;00m\n\u001b[1;32m   (...)\u001b[0m\n\u001b[0;32m    594\u001b[0m \n\u001b[0;32m    595\u001b[0m \u001b[38;5;124;03m    \"\"\"\u001b[39;00m\n\u001b[1;32m--> 596\u001b[0m     \u001b[38;5;28;01mreturn\u001b[39;00m \u001b[38;5;28;43mself\u001b[39;49m\u001b[38;5;241;43m.\u001b[39;49m\u001b[43mget_records\u001b[49m\u001b[43m(\u001b[49m\u001b[38;5;241;43m*\u001b[39;49m\u001b[38;5;241;43m*\u001b[39;49m\u001b[43mkwargs\u001b[49m\u001b[43m)\u001b[49m\n",
      "File \u001b[1;32m~\\AppData\\Local\\Packages\\PythonSoftwareFoundation.Python.3.8_qbz5n2kfra8p0\\LocalCache\\local-packages\\Python38\\site-packages\\gspread\\worksheet.py:689\u001b[0m, in \u001b[0;36mWorksheet.get_records\u001b[1;34m(self, empty2zero, head, use_index, first_index, last_index, default_blank, allow_underscores_in_numeric_literals, numericise_ignore, value_render_option, expected_headers)\u001b[0m\n\u001b[0;32m    686\u001b[0m \u001b[38;5;28;01melse\u001b[39;00m:\n\u001b[0;32m    687\u001b[0m     last_index_set \u001b[38;5;241m=\u001b[39m \u001b[38;5;28;01mTrue\u001b[39;00m\n\u001b[1;32m--> 689\u001b[0m values \u001b[38;5;241m=\u001b[39m \u001b[38;5;28;43mself\u001b[39;49m\u001b[38;5;241;43m.\u001b[39;49m\u001b[43mget_values\u001b[49m\u001b[43m(\u001b[49m\n\u001b[0;32m    690\u001b[0m \u001b[43m    \u001b[49m\u001b[38;5;124;43m\"\u001b[39;49m\u001b[38;5;132;43;01m{first_index}\u001b[39;49;00m\u001b[38;5;124;43m:\u001b[39;49m\u001b[38;5;132;43;01m{last_index}\u001b[39;49;00m\u001b[38;5;124;43m\"\u001b[39;49m\u001b[38;5;241;43m.\u001b[39;49m\u001b[43mformat\u001b[49m\u001b[43m(\u001b[49m\n\u001b[0;32m    691\u001b[0m \u001b[43m        \u001b[49m\u001b[43mfirst_index\u001b[49m\u001b[38;5;241;43m=\u001b[39;49m\u001b[43mfirst_index\u001b[49m\u001b[43m,\u001b[49m\u001b[43m \u001b[49m\u001b[43mlast_index\u001b[49m\u001b[38;5;241;43m=\u001b[39;49m\u001b[43mlast_index\u001b[49m\n\u001b[0;32m    692\u001b[0m \u001b[43m    \u001b[49m\u001b[43m)\u001b[49m\u001b[43m,\u001b[49m\n\u001b[0;32m    693\u001b[0m \u001b[43m    \u001b[49m\u001b[43mvalue_render_option\u001b[49m\u001b[38;5;241;43m=\u001b[39;49m\u001b[43mvalue_render_option\u001b[49m\u001b[43m,\u001b[49m\n\u001b[0;32m    694\u001b[0m \u001b[43m\u001b[49m\u001b[43m)\u001b[49m\n\u001b[0;32m    695\u001b[0m \u001b[38;5;28;01mif\u001b[39;00m values \u001b[38;5;241m==\u001b[39m []:\n\u001b[0;32m    696\u001b[0m     \u001b[38;5;66;03m# see test_get_records_with_all_values_blank\u001b[39;00m\n\u001b[0;32m    697\u001b[0m     \u001b[38;5;66;03m#  if last index is not asked for,\u001b[39;00m\n\u001b[0;32m    698\u001b[0m     \u001b[38;5;66;03m#  we don't know the length of the sheet so we return []\u001b[39;00m\n\u001b[0;32m    699\u001b[0m     \u001b[38;5;28;01mif\u001b[39;00m last_index_set \u001b[38;5;129;01mis\u001b[39;00m \u001b[38;5;28;01mFalse\u001b[39;00m:\n",
      "File \u001b[1;32m~\\AppData\\Local\\Packages\\PythonSoftwareFoundation.Python.3.8_qbz5n2kfra8p0\\LocalCache\\local-packages\\Python38\\site-packages\\gspread\\utils.py:739\u001b[0m, in \u001b[0;36maccepted_kwargs.<locals>.decorate.<locals>.wrapper\u001b[1;34m(*args, **kwargs)\u001b[0m\n\u001b[0;32m    736\u001b[0m     \u001b[38;5;28;01mif\u001b[39;00m v \u001b[38;5;241m!=\u001b[39m REQUIRED_KWARGS:\n\u001b[0;32m    737\u001b[0m         kwargs\u001b[38;5;241m.\u001b[39msetdefault(k, v)\n\u001b[1;32m--> 739\u001b[0m \u001b[38;5;28;01mreturn\u001b[39;00m \u001b[43mf\u001b[49m\u001b[43m(\u001b[49m\u001b[38;5;241;43m*\u001b[39;49m\u001b[43margs\u001b[49m\u001b[43m,\u001b[49m\u001b[43m \u001b[49m\u001b[38;5;241;43m*\u001b[39;49m\u001b[38;5;241;43m*\u001b[39;49m\u001b[43mkwargs\u001b[49m\u001b[43m)\u001b[49m\n",
      "File \u001b[1;32m~\\AppData\\Local\\Packages\\PythonSoftwareFoundation.Python.3.8_qbz5n2kfra8p0\\LocalCache\\local-packages\\Python38\\site-packages\\gspread\\worksheet.py:487\u001b[0m, in \u001b[0;36mWorksheet.get_values\u001b[1;34m(self, range_name, combine_merged_cells, **kwargs)\u001b[0m\n\u001b[0;32m    372\u001b[0m \u001b[38;5;250m\u001b[39m\u001b[38;5;124;03m\"\"\"Returns a list of lists containing all values from specified range.\u001b[39;00m\n\u001b[0;32m    373\u001b[0m \n\u001b[0;32m    374\u001b[0m \u001b[38;5;124;03mBy default values are returned as strings. See ``value_render_option``\u001b[39;00m\n\u001b[1;32m   (...)\u001b[0m\n\u001b[0;32m    484\u001b[0m \u001b[38;5;124;03m    worksheet.get_values('A2:B4', value_render_option=ValueRenderOption.formula)\u001b[39;00m\n\u001b[0;32m    485\u001b[0m \u001b[38;5;124;03m\"\"\"\u001b[39;00m\n\u001b[0;32m    486\u001b[0m \u001b[38;5;28;01mtry\u001b[39;00m:\n\u001b[1;32m--> 487\u001b[0m     vals \u001b[38;5;241m=\u001b[39m fill_gaps(\u001b[38;5;28;43mself\u001b[39;49m\u001b[38;5;241;43m.\u001b[39;49m\u001b[43mget\u001b[49m\u001b[43m(\u001b[49m\u001b[43mrange_name\u001b[49m\u001b[43m,\u001b[49m\u001b[43m \u001b[49m\u001b[38;5;241;43m*\u001b[39;49m\u001b[38;5;241;43m*\u001b[39;49m\u001b[43mkwargs\u001b[49m\u001b[43m)\u001b[49m)\n\u001b[0;32m    489\u001b[0m     \u001b[38;5;28;01mif\u001b[39;00m combine_merged_cells \u001b[38;5;129;01mis\u001b[39;00m \u001b[38;5;28;01mTrue\u001b[39;00m:\n\u001b[0;32m    490\u001b[0m         spreadsheet_meta \u001b[38;5;241m=\u001b[39m \u001b[38;5;28mself\u001b[39m\u001b[38;5;241m.\u001b[39mspreadsheet\u001b[38;5;241m.\u001b[39mfetch_sheet_metadata()\n",
      "File \u001b[1;32m~\\AppData\\Local\\Packages\\PythonSoftwareFoundation.Python.3.8_qbz5n2kfra8p0\\LocalCache\\local-packages\\Python38\\site-packages\\gspread\\utils.py:739\u001b[0m, in \u001b[0;36maccepted_kwargs.<locals>.decorate.<locals>.wrapper\u001b[1;34m(*args, **kwargs)\u001b[0m\n\u001b[0;32m    736\u001b[0m     \u001b[38;5;28;01mif\u001b[39;00m v \u001b[38;5;241m!=\u001b[39m REQUIRED_KWARGS:\n\u001b[0;32m    737\u001b[0m         kwargs\u001b[38;5;241m.\u001b[39msetdefault(k, v)\n\u001b[1;32m--> 739\u001b[0m \u001b[38;5;28;01mreturn\u001b[39;00m \u001b[43mf\u001b[49m\u001b[43m(\u001b[49m\u001b[38;5;241;43m*\u001b[39;49m\u001b[43margs\u001b[49m\u001b[43m,\u001b[49m\u001b[43m \u001b[49m\u001b[38;5;241;43m*\u001b[39;49m\u001b[38;5;241;43m*\u001b[39;49m\u001b[43mkwargs\u001b[49m\u001b[43m)\u001b[49m\n",
      "File \u001b[1;32m~\\AppData\\Local\\Packages\\PythonSoftwareFoundation.Python.3.8_qbz5n2kfra8p0\\LocalCache\\local-packages\\Python38\\site-packages\\gspread\\worksheet.py:1056\u001b[0m, in \u001b[0;36mWorksheet.get\u001b[1;34m(self, range_name, **kwargs)\u001b[0m\n\u001b[0;32m   1046\u001b[0m range_name \u001b[38;5;241m=\u001b[39m absolute_range_name(\u001b[38;5;28mself\u001b[39m\u001b[38;5;241m.\u001b[39mtitle, range_name)\n\u001b[0;32m   1048\u001b[0m params \u001b[38;5;241m=\u001b[39m filter_dict_values(\n\u001b[0;32m   1049\u001b[0m     {\n\u001b[0;32m   1050\u001b[0m         \u001b[38;5;124m\"\u001b[39m\u001b[38;5;124mmajorDimension\u001b[39m\u001b[38;5;124m\"\u001b[39m: kwargs[\u001b[38;5;124m\"\u001b[39m\u001b[38;5;124mmajor_dimension\u001b[39m\u001b[38;5;124m\"\u001b[39m],\n\u001b[1;32m   (...)\u001b[0m\n\u001b[0;32m   1053\u001b[0m     }\n\u001b[0;32m   1054\u001b[0m )\n\u001b[1;32m-> 1056\u001b[0m response \u001b[38;5;241m=\u001b[39m \u001b[38;5;28;43mself\u001b[39;49m\u001b[38;5;241;43m.\u001b[39;49m\u001b[43mspreadsheet\u001b[49m\u001b[38;5;241;43m.\u001b[39;49m\u001b[43mvalues_get\u001b[49m\u001b[43m(\u001b[49m\u001b[43mrange_name\u001b[49m\u001b[43m,\u001b[49m\u001b[43m \u001b[49m\u001b[43mparams\u001b[49m\u001b[38;5;241;43m=\u001b[39;49m\u001b[43mparams\u001b[49m\u001b[43m)\u001b[49m\n\u001b[0;32m   1058\u001b[0m values \u001b[38;5;241m=\u001b[39m response\u001b[38;5;241m.\u001b[39mget(\u001b[38;5;124m\"\u001b[39m\u001b[38;5;124mvalues\u001b[39m\u001b[38;5;124m\"\u001b[39m, [])\n\u001b[0;32m   1060\u001b[0m \u001b[38;5;66;03m# range_name must be a full grid range so that we can guarantee\u001b[39;00m\n\u001b[0;32m   1061\u001b[0m \u001b[38;5;66;03m#  startRowIndex and endRowIndex properties\u001b[39;00m\n",
      "File \u001b[1;32m~\\AppData\\Local\\Packages\\PythonSoftwareFoundation.Python.3.8_qbz5n2kfra8p0\\LocalCache\\local-packages\\Python38\\site-packages\\gspread\\spreadsheet.py:173\u001b[0m, in \u001b[0;36mSpreadsheet.values_get\u001b[1;34m(self, range, params)\u001b[0m\n\u001b[0;32m    163\u001b[0m \u001b[38;5;250m\u001b[39m\u001b[38;5;124;03m\"\"\"Lower-level method that directly calls `spreadsheets/<ID>/values/<range> <https://developers.google.com/sheets/api/reference/rest/v4/spreadsheets.values/get>`_.\u001b[39;00m\n\u001b[0;32m    164\u001b[0m \n\u001b[0;32m    165\u001b[0m \u001b[38;5;124;03m:param str range: The `A1 notation <https://developers.google.com/sheets/api/guides/concepts#a1_notation>`_ of the values to retrieve.\u001b[39;00m\n\u001b[1;32m   (...)\u001b[0m\n\u001b[0;32m    170\u001b[0m \u001b[38;5;124;03m.. versionadded:: 3.0\u001b[39;00m\n\u001b[0;32m    171\u001b[0m \u001b[38;5;124;03m\"\"\"\u001b[39;00m\n\u001b[0;32m    172\u001b[0m url \u001b[38;5;241m=\u001b[39m SPREADSHEET_VALUES_URL \u001b[38;5;241m%\u001b[39m (\u001b[38;5;28mself\u001b[39m\u001b[38;5;241m.\u001b[39mid, quote(\u001b[38;5;28mrange\u001b[39m))\n\u001b[1;32m--> 173\u001b[0m r \u001b[38;5;241m=\u001b[39m \u001b[38;5;28;43mself\u001b[39;49m\u001b[38;5;241;43m.\u001b[39;49m\u001b[43mclient\u001b[49m\u001b[38;5;241;43m.\u001b[39;49m\u001b[43mrequest\u001b[49m\u001b[43m(\u001b[49m\u001b[38;5;124;43m\"\u001b[39;49m\u001b[38;5;124;43mget\u001b[39;49m\u001b[38;5;124;43m\"\u001b[39;49m\u001b[43m,\u001b[49m\u001b[43m \u001b[49m\u001b[43murl\u001b[49m\u001b[43m,\u001b[49m\u001b[43m \u001b[49m\u001b[43mparams\u001b[49m\u001b[38;5;241;43m=\u001b[39;49m\u001b[43mparams\u001b[49m\u001b[43m)\u001b[49m\n\u001b[0;32m    174\u001b[0m \u001b[38;5;28;01mreturn\u001b[39;00m r\u001b[38;5;241m.\u001b[39mjson()\n",
      "File \u001b[1;32m~\\AppData\\Local\\Packages\\PythonSoftwareFoundation.Python.3.8_qbz5n2kfra8p0\\LocalCache\\local-packages\\Python38\\site-packages\\gspread\\client.py:93\u001b[0m, in \u001b[0;36mClient.request\u001b[1;34m(self, method, endpoint, params, data, json, files, headers)\u001b[0m\n\u001b[0;32m     91\u001b[0m     \u001b[38;5;28;01mreturn\u001b[39;00m response\n\u001b[0;32m     92\u001b[0m \u001b[38;5;28;01melse\u001b[39;00m:\n\u001b[1;32m---> 93\u001b[0m     \u001b[38;5;28;01mraise\u001b[39;00m APIError(response)\n",
      "\u001b[1;31mAPIError\u001b[0m: {'code': 429, 'message': \"Quota exceeded for quota metric 'Read requests' and limit 'Read requests per minute per user' of service 'sheets.googleapis.com' for consumer 'project_number:151682136276'.\", 'status': 'RESOURCE_EXHAUSTED', 'details': [{'@type': 'type.googleapis.com/google.rpc.ErrorInfo', 'reason': 'RATE_LIMIT_EXCEEDED', 'domain': 'googleapis.com', 'metadata': {'service': 'sheets.googleapis.com', 'quota_location': 'global', 'quota_limit_value': '60', 'consumer': 'projects/151682136276', 'quota_metric': 'sheets.googleapis.com/read_requests', 'quota_limit': 'ReadRequestsPerMinutePerUser'}}, {'@type': 'type.googleapis.com/google.rpc.Help', 'links': [{'description': 'Request a higher quota limit.', 'url': 'https://cloud.google.com/docs/quota#requesting_higher_quota'}]}]}"
     ]
    }
   ],
   "source": [
    "for stock in stocks:\n",
    "    print(stock)\n",
    "    stocks[stock].update({'Hist_data': g_stocks(stock, time_delta=1100)})\n",
    "    time.sleep(1)"
   ]
  },
  {
   "cell_type": "code",
   "execution_count": null,
   "metadata": {},
   "outputs": [],
   "source": []
  }
 ],
 "metadata": {
  "kernelspec": {
   "display_name": "Python 3",
   "language": "python",
   "name": "python3"
  },
  "language_info": {
   "codemirror_mode": {
    "name": "ipython",
    "version": 3
   },
   "file_extension": ".py",
   "mimetype": "text/x-python",
   "name": "python",
   "nbconvert_exporter": "python",
   "pygments_lexer": "ipython3",
   "version": "3.8.10"
  }
 },
 "nbformat": 4,
 "nbformat_minor": 2
}
